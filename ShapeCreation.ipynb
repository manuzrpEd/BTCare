{
 "cells": [
  {
   "cell_type": "markdown",
   "metadata": {},
   "source": [
    "Se pide:\n",
    "\n",
    "Un código ejecutable en Python que tenga como resultado la identificación de la forma geométrica y el color de la misma en un formato que especifique el usuario final tras una pregunta en el terminal.\n",
    "\n",
    "Para ello, el código aceptará una imagen de nombre “image.jpg” que se encontrará en la misma carpeta. Esta será una figura geométrica plana, sin bordes de otro color, de hasta 5 lados y círculos.\n",
    "\n",
    "Las opciones en las que se pueda recibir la información del color (hsv, hex o RGB), será preguntada por terminal al usuario como primer paso en la ejecución del código.\\\n",
    "Adjuntar código e imagen con la que se han hecho las comprobaciones."
   ]
  },
  {
   "cell_type": "code",
   "execution_count": 17,
   "metadata": {},
   "outputs": [],
   "source": [
    "# libraries\n",
    "import math\n",
    "import os\n",
    "#\n",
    "from PIL import Image, ImageDraw"
   ]
  },
  {
   "cell_type": "markdown",
   "metadata": {},
   "source": [
    "# Image creation"
   ]
  },
  {
   "cell_type": "code",
   "execution_count": 18,
   "metadata": {},
   "outputs": [],
   "source": [
    "dir  = \"images/\"\n",
    "os.makedirs(dir, exist_ok=True)"
   ]
  },
  {
   "cell_type": "code",
   "execution_count": 19,
   "metadata": {},
   "outputs": [],
   "source": [
    "def create_centered_polygon_image(color, size, border_size, sides, file_path):\n",
    "    # Create a new image with a white background\n",
    "    image_width, image_height = size\n",
    "    image = Image.new(\"RGB\", size, \"white\")\n",
    "\n",
    "    # Create a draw object\n",
    "    draw = ImageDraw.Draw(image)\n",
    "\n",
    "    # Calculate the radius of the inscribed circle\n",
    "    radius = min(image_width, image_height) // 2 - border_size\n",
    "\n",
    "    # Calculate the center of the image\n",
    "    center_x, center_y = image_width // 2, image_height // 2\n",
    "\n",
    "    # Calculate the vertices of the centered polygon\n",
    "    polygon_vertices = []\n",
    "    for i in range(sides):\n",
    "        angle = (i * 2 * math.pi) / sides\n",
    "        x = int(center_x + radius * math.cos(angle))\n",
    "        y = int(center_y + radius * math.sin(angle))\n",
    "        polygon_vertices.append((x, y))\n",
    "\n",
    "    # Draw the polygon with the specified color\n",
    "    draw.polygon(polygon_vertices, fill=color)\n",
    "\n",
    "    # Save the image as a JPG file\n",
    "    image.save(file_path, \"JPEG\")"
   ]
  },
  {
   "cell_type": "code",
   "execution_count": 20,
   "metadata": {},
   "outputs": [],
   "source": [
    "# common parameters\n",
    "border_size = 20  # Replace with your desired border size\n",
    "polygon_size = (300, 300)  # Replace with your desired size"
   ]
  },
  {
   "cell_type": "code",
   "execution_count": 21,
   "metadata": {},
   "outputs": [],
   "source": [
    "# Triangle\n",
    "polygon_color = \"green\"  # Replace with your desired color\n",
    "polygon_sides = 3  # Replace with the number of sides/vertices\n",
    "output_file_path = f\"{dir}triangle.jpg\"  # Replace with your desired file path\n",
    "create_centered_polygon_image(polygon_color, polygon_size, border_size, polygon_sides, output_file_path)"
   ]
  },
  {
   "cell_type": "code",
   "execution_count": 22,
   "metadata": {},
   "outputs": [],
   "source": [
    "# Quadrilateral\n",
    "polygon_color = \"blue\"  # Replace with your desired color\n",
    "polygon_sides = 4  # Replace with the number of sides/vertices\n",
    "output_file_path = f\"{dir}quadrilateral.jpg\"  # Replace with your desired file path\n",
    "\n",
    "create_centered_polygon_image(polygon_color, polygon_size, border_size, polygon_sides, output_file_path)"
   ]
  },
  {
   "cell_type": "code",
   "execution_count": 23,
   "metadata": {},
   "outputs": [],
   "source": [
    "# Pentagon\n",
    "polygon_color = \"orange\"  # Replace with your desired color\n",
    "polygon_sides = 5  # Replace with the number of sides/vertices\n",
    "output_file_path = f\"{dir}pentagon.jpg\"  # Replace with your desired file path\n",
    "\n",
    "create_centered_polygon_image(polygon_color, polygon_size, border_size, polygon_sides, output_file_path)"
   ]
  },
  {
   "cell_type": "code",
   "execution_count": 24,
   "metadata": {},
   "outputs": [],
   "source": [
    "# Circle\n",
    "polygon_color = \"red\"  # Replace with your desired color\n",
    "polygon_sides = 40  # Replace with the number of sides/vertices\n",
    "output_file_path = f\"{dir}circle.jpg\"  # Replace with your desired file path\n",
    "\n",
    "create_centered_polygon_image(polygon_color, polygon_size, border_size, polygon_sides, output_file_path)"
   ]
  }
 ],
 "metadata": {
  "kernelspec": {
   "display_name": "myvenv",
   "language": "python",
   "name": "python3"
  },
  "language_info": {
   "codemirror_mode": {
    "name": "ipython",
    "version": 3
   },
   "file_extension": ".py",
   "mimetype": "text/x-python",
   "name": "python",
   "nbconvert_exporter": "python",
   "pygments_lexer": "ipython3",
   "version": "3.8.10"
  }
 },
 "nbformat": 4,
 "nbformat_minor": 2
}
