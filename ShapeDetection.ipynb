{
 "cells": [
  {
   "cell_type": "markdown",
   "metadata": {},
   "source": [
    "Se pide:\n",
    "\n",
    "Un código ejecutable en Python que tenga como resultado la identificación de la forma geométrica y el color de la misma en un formato que especifique el usuario final tras una pregunta en el terminal.\n",
    "\n",
    "Para ello, el código aceptará una imagen de nombre “image.jpg” que se encontrará en la misma carpeta. Esta será una figura geométrica plana, sin bordes de otro color, de hasta 5 lados y círculos.\n",
    "\n",
    "Las opciones en las que se pueda recibir la información del color (hsv, hex o RGB), será preguntada por terminal al usuario como primer paso en la ejecución del código.\\\n",
    "Adjuntar código e imagen con la que se han hecho las comprobaciones."
   ]
  },
  {
   "cell_type": "code",
   "execution_count": 13,
   "metadata": {},
   "outputs": [],
   "source": [
    "%%capture\n",
    "# install libraries\n",
    "!pip install cv2 numpy"
   ]
  },
  {
   "cell_type": "code",
   "execution_count": 14,
   "metadata": {},
   "outputs": [],
   "source": [
    "# libraries\n",
    "import cv2\n",
    "import os\n",
    "#\n",
    "import numpy as np\n",
    "#"
   ]
  },
  {
   "cell_type": "markdown",
   "metadata": {},
   "source": [
    "# Image detection"
   ]
  },
  {
   "cell_type": "code",
   "execution_count": 15,
   "metadata": {},
   "outputs": [],
   "source": [
    "# parameters\n",
    "color_representations = [\n",
    "    \"RGB\", \n",
    "    \"HSV\", \n",
    "    \"HEX\"\n",
    "    ]\n",
    "vertices_shapes_map = {\n",
    "    3: \"Triangle\",\n",
    "    4: \"Quadrilateral\",\n",
    "    5: \"Pentagon\",\n",
    "    10: \"Circle\"\n",
    "}\n",
    "scaling_factor_DP = 0.01\n",
    "gaussian_kernel = (5, 5) # In the context of image processing, a kernel is a small matrix or a convolution matrix that is used for various operations like blurring, sharpening, edge detection, etc.\n",
    "sigmaX = 0\n",
    "lower_threshold_edge = 10\n",
    "upper_threshold_edge = 30"
   ]
  },
  {
   "cell_type": "code",
   "execution_count": 16,
   "metadata": {},
   "outputs": [
    {
     "name": "stdout",
     "output_type": "stream",
     "text": [
      "Reading image.jpg\n",
      "Selected color representation: HSV\n",
      "Detected shape: Triangle\n",
      "Average Color (HSV): (61, 247, 33)\n"
     ]
    }
   ],
   "source": [
    "def detect_geometric_shape(image_path, color_representation):\n",
    "    # Read the image in a NumPy array where each element of the array corresponds to the intensity of a pixel in the image.\n",
    "    image = cv2.imread(image_path)\n",
    "\n",
    "    # For simplicity, efficiency and reducing dimensionality, convert the image to grayscale\n",
    "    gray_image = cv2.cvtColor(image, cv2.COLOR_BGR2GRAY)\n",
    "\n",
    "    # Apply GaussianBlur to reduce noise and improve contour detection, The size of the Gaussian kernel\n",
    "    blurred_image = cv2.GaussianBlur(gray_image, gaussian_kernel, sigmaX)\n",
    "\n",
    "    # Use Canny edge detection to find edges in the image. The thresholds are gradient magnitudes used to determine which edges to consider\n",
    "    edges = cv2.Canny(blurred_image, lower_threshold_edge, upper_threshold_edge)\n",
    "\n",
    "    # Retrieve contours (only the extreme outer contours), approximating the contour points with the `CHAIN_APPROX_SIMPLE` method\n",
    "    contours, _ = cv2.findContours(edges, cv2.RETR_EXTERNAL, cv2.CHAIN_APPROX_SIMPLE)\n",
    "\n",
    "    contour = contours[0]\n",
    "    # Approximate the polygon using the Douglas-Peucker algorithm, this reduces the number of points.\n",
    "    epsilon = scaling_factor_DP * cv2.arcLength(contour, True)\n",
    "    approx = cv2.approxPolyDP(contour, epsilon, True)\n",
    "\n",
    "    # Get the number of vertices in the shape\n",
    "    num_vertices = len(approx)\n",
    "\n",
    "    # Determine the type of shape based on the number of vertices\n",
    "    shape_type = \"\"\n",
    "    if num_vertices in [3, 4, 5]:\n",
    "        shape_type = vertices_shapes_map[num_vertices]\n",
    "    elif num_vertices >= 10:\n",
    "        # If the shape has a large number of vertices, consider it a circle\n",
    "        shape_type = vertices_shapes_map[10]\n",
    "    else:\n",
    "        shape_type = None\n",
    "\n",
    "    # Calculate the average color within the contour\n",
    "    mask = np.zeros_like(image)\n",
    "    # get a white region that corresponds to the area inside the contour and black elsewhere.\n",
    "    cv2.drawContours(mask, [contour], 0, (255, 255, 255), thickness=cv2.FILLED)\n",
    "    masked_image = cv2.bitwise_and(image, mask) # keep only the pixels from the original image where the corresponding pixel is non-zero (white)\n",
    "    average_color = cv2.mean(masked_image)[:3]  # Mean color in BGR format inside the contour in the masked image\n",
    "\n",
    "    # Convert BGR to RGB, HEX, HSV\n",
    "    # RGB intensity coordinates, from 255 (max intensity) to 0 (min intensity)\n",
    "    if color_representation == \"RGB\": \n",
    "        average_color = tuple(reversed(average_color))\n",
    "    # hexadecimal color, using a hexadecimal (base-16) notation, where 00 is the minimum intensity (no color contribution), and FF is the maximum intensity (full color contribution).\n",
    "    elif color_representation == \"HEX\": \n",
    "        average_color = \"#{:02X}{:02X}{:02X}\".format(*map(int, average_color))\n",
    "    # Hue: 0 and 360 both represent red, 120 represents green, and 240 represents blue.\n",
    "    # Saturation: 0 corresponds to a shade of gray, while a saturation value of 1 represents the most vivid version of the color.\n",
    "    # Value: 0 corresponds to black, and 1 corresponds to the full brightness of the color.\n",
    "    elif color_representation == \"HSV\":\n",
    "        average_color = tuple(cv2.cvtColor(np.uint8([[average_color]]), cv2.COLOR_BGR2HSV)[0][0])\n",
    "\n",
    "    return shape_type, average_color\n",
    "\n",
    "image_path = 'image.jpg'\n",
    "assert os.path.exists(image_path), f\"The file '{image_path}' was not found. Ensure to place an 'image.jpg' file in this directory and re-run the executable.\"\n",
    "print(f\"Reading {image_path}\")\n",
    "\n",
    "while True:\n",
    "    color_representation = input(f\"Enter color representation ({color_representations[0]}, {color_representations[1]}, {color_representations[2]}): \").upper()\n",
    "    if color_representation in color_representations:\n",
    "        print(f\"Selected color representation: {color_representation}\")\n",
    "        break\n",
    "    else:\n",
    "        print(f\"Invalid input. Please enter {color_representations[0]}, {color_representations[1]}, or {color_representations[2]}.\")\n",
    "\n",
    "shape_type, color = detect_geometric_shape(image_path, color_representation)\n",
    "# Print the detected shape and color information\n",
    "print(f\"Detected shape: {shape_type}\")\n",
    "print(f\"Average Color ({color_representation}): {color}\")"
   ]
  }
 ],
 "metadata": {
  "kernelspec": {
   "display_name": "myvenv",
   "language": "python",
   "name": "python3"
  },
  "language_info": {
   "codemirror_mode": {
    "name": "ipython",
    "version": 3
   },
   "file_extension": ".py",
   "mimetype": "text/x-python",
   "name": "python",
   "nbconvert_exporter": "python",
   "pygments_lexer": "ipython3",
   "version": "3.8.10"
  }
 },
 "nbformat": 4,
 "nbformat_minor": 2
}
